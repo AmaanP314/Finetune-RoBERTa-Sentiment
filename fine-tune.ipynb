{
  "cells": [
    {
      "cell_type": "markdown",
      "source": [
        "# **Preprocessing**"
      ],
      "metadata": {
        "id": "KlaVSuQoifv1"
      }
    },
    {
      "cell_type": "code",
      "execution_count": null,
      "metadata": {
        "id": "5cJ1CuDVo3Qs"
      },
      "outputs": [],
      "source": [
        "from datasets import load_dataset\n",
        "from transformers import AutoTokenizer, AutoModelForSequenceClassification, TrainingArguments, EarlyStoppingCallback, Trainer\n",
        "import numpy as np\n",
        "from sklearn.metrics import accuracy_score\n",
        "import torch\n",
        "import torch.nn as nn"
      ]
    },
    {
      "cell_type": "code",
      "execution_count": null,
      "metadata": {
        "id": "59WPv41ipIqK"
      },
      "outputs": [],
      "source": [
        "path = r\"comments.csv\"\n",
        "dataset = load_dataset(\"csv\", data_files={\"data\": path})[\"data\"]"
      ]
    },
    {
      "cell_type": "code",
      "execution_count": null,
      "metadata": {
        "id": "59o3mFL8pTa1"
      },
      "outputs": [],
      "source": [
        "dataset = dataset.train_test_split(test_size=0.1, seed=42)\n",
        "train_dataset = dataset[\"train\"]\n",
        "val_dataset = dataset[\"test\"]"
      ]
    },
    {
      "cell_type": "code",
      "execution_count": null,
      "metadata": {
        "colab": {
          "base_uri": "https://localhost:8080/"
        },
        "id": "4iP4wP_npaWk",
        "outputId": "00d57544-c713-4675-86c5-832103847472"
      },
      "outputs": [
        {
          "data": {
            "text/plain": [
              "Dataset({\n",
              "    features: ['CommentText', 'Sentiment'],\n",
              "    num_rows: 819328\n",
              "})"
            ]
          },
          "execution_count": 15,
          "metadata": {},
          "output_type": "execute_result"
        }
      ],
      "source": [
        "train_dataset"
      ]
    },
    {
      "cell_type": "code",
      "execution_count": null,
      "metadata": {
        "id": "DKKnWE_ppYmZ"
      },
      "outputs": [],
      "source": [
        "def map_sentiment(example):\n",
        "    mapping = {\"Negative\": 0, \"Neutral\": 1, \"Positive\": 2}\n",
        "    example[\"label\"] = mapping[example[\"Sentiment\"]]\n",
        "    return example"
      ]
    },
    {
      "cell_type": "code",
      "execution_count": null,
      "metadata": {
        "id": "1-YLnCTSpj9F"
      },
      "outputs": [],
      "source": [
        "train_dataset = train_dataset.map(map_sentiment)\n",
        "val_dataset = val_dataset.map(map_sentiment)"
      ]
    },
    {
      "cell_type": "code",
      "execution_count": null,
      "metadata": {
        "id": "mpUHSZkSpmJi"
      },
      "outputs": [],
      "source": [
        "model_name = \"cardiffnlp/twitter-xlm-roberta-base-sentiment-multilingual\"\n",
        "tokenizer = AutoTokenizer.from_pretrained(model_name)"
      ]
    },
    {
      "cell_type": "code",
      "execution_count": null,
      "metadata": {
        "id": "NO03XZZXqsz6"
      },
      "outputs": [],
      "source": [
        "def tokenize_function(examples):\n",
        "    return tokenizer(examples[\"CommentText\"], truncation=True, padding=\"max_length\", max_length=64)"
      ]
    },
    {
      "cell_type": "code",
      "execution_count": null,
      "metadata": {
        "id": "_ImsXcgKqw0K"
      },
      "outputs": [],
      "source": [
        "train_dataset = train_dataset.map(tokenize_function, batched=True)\n",
        "val_dataset = val_dataset.map(tokenize_function, batched=True)"
      ]
    },
    {
      "cell_type": "code",
      "execution_count": null,
      "metadata": {
        "id": "bQ1yB9XSqznu"
      },
      "outputs": [],
      "source": [
        "columns_to_keep = [\"input_ids\", \"attention_mask\", \"label\"]\n",
        "train_dataset.set_format(type=\"torch\", columns=columns_to_keep)\n",
        "val_dataset.set_format(type=\"torch\", columns=columns_to_keep)"
      ]
    },
    {
      "cell_type": "code",
      "execution_count": null,
      "metadata": {
        "id": "P-h_4OEOsqjN"
      },
      "outputs": [],
      "source": [
        "num_labels = 3\n",
        "model = AutoModelForSequenceClassification.from_pretrained(model_name, num_labels=num_labels)"
      ]
    },
    {
      "cell_type": "markdown",
      "metadata": {
        "id": "zhMRsQUwowiF"
      },
      "source": [
        "# **Fine-tuning**:\n"
      ]
    },
    {
      "cell_type": "code",
      "execution_count": null,
      "metadata": {
        "id": "v51it6sog5jw"
      },
      "outputs": [],
      "source": [
        "class CustomTrainer(Trainer):\n",
        "    def compute_loss(self, model, inputs, return_outputs=False, **kwargs):\n",
        "        labels = inputs.get(\"labels\")\n",
        "        outputs = model(**inputs)\n",
        "        logits = outputs.logits if hasattr(outputs, \"logits\") else outputs[0]\n",
        "        loss_fct = nn.CrossEntropyLoss(label_smoothing=0.1)\n",
        "        loss = loss_fct(logits, labels)\n",
        "        return (loss, outputs) if return_outputs else loss"
      ]
    },
    {
      "cell_type": "code",
      "execution_count": null,
      "metadata": {
        "colab": {
          "base_uri": "https://localhost:8080/"
        },
        "id": "9Fpe-SRIsyX3",
        "outputId": "b3d3f2b0-a5d6-4b89-877a-a58c7c3d9d98"
      },
      "outputs": [
        {
          "name": "stderr",
          "output_type": "stream",
          "text": [
            "/home/zeus/miniconda3/envs/cloudspace/lib/python3.10/site-packages/transformers/training_args.py:1594: FutureWarning: `evaluation_strategy` is deprecated and will be removed in version 4.46 of 🤗 Transformers. Use `eval_strategy` instead\n",
            "  warnings.warn(\n"
          ]
        }
      ],
      "source": [
        "training_args = TrainingArguments(\n",
        "    output_dir=\"./result\",\n",
        "    evaluation_strategy=\"steps\",\n",
        "    eval_steps=125,\n",
        "    save_steps=125,\n",
        "    per_device_train_batch_size=1176,\n",
        "    per_device_eval_batch_size=1176,\n",
        "    num_train_epochs=3,\n",
        "    learning_rate=1e-5,\n",
        "    weight_decay=0.05,\n",
        "    gradient_accumulation_steps=2,\n",
        "    fp16=True,\n",
        "    logging_steps=100,\n",
        "    load_best_model_at_end=True,\n",
        "    warmup_steps=500,\n",
        ")"
      ]
    },
    {
      "cell_type": "code",
      "execution_count": null,
      "metadata": {
        "id": "0Swdmte0s484"
      },
      "outputs": [],
      "source": [
        "def compute_metrics(eval_pred):\n",
        "    logits, labels = eval_pred\n",
        "    predictions = np.argmax(logits, axis=-1)\n",
        "    return {\"accuracy\": accuracy_score(labels, predictions)}"
      ]
    },
    {
      "cell_type": "code",
      "execution_count": null,
      "metadata": {
        "id": "cAK3WkIOs_h1"
      },
      "outputs": [],
      "source": [
        "trainer = CustomTrainer(\n",
        "    model=model,\n",
        "    args=training_args,\n",
        "    train_dataset=train_dataset,\n",
        "    eval_dataset=val_dataset,\n",
        "    compute_metrics=compute_metrics,\n",
        "    callbacks=[EarlyStoppingCallback(early_stopping_patience=5)]\n",
        ")"
      ]
    },
    {
      "cell_type": "code",
      "execution_count": null,
      "metadata": {
        "colab": {
          "base_uri": "https://localhost:8080/",
          "height": 107
        },
        "id": "3yA6jPrztG9G",
        "outputId": "fcde4a30-2438-480b-945a-f480256ce17d"
      },
      "outputs": [
        {
          "data": {
            "text/html": [
              "\n",
              "    <div>\n",
              "      \n",
              "      <progress value='1044' max='1044' style='width:300px; height:20px; vertical-align: middle;'></progress>\n",
              "      [1044/1044 22:23, Epoch 2/3]\n",
              "    </div>\n",
              "    <table border=\"1\" class=\"dataframe\">\n",
              "  <thead>\n",
              " <tr style=\"text-align: left;\">\n",
              "      <th>Step</th>\n",
              "      <th>Training Loss</th>\n",
              "      <th>Validation Loss</th>\n",
              "      <th>Accuracy</th>\n",
              "    </tr>\n",
              "  </thead>\n",
              "  <tbody>\n",
              "    <tr>\n",
              "      <td>125</td>\n",
              "      <td>0.651100</td>\n",
              "      <td>0.633147</td>\n",
              "      <td>0.799148</td>\n",
              "    </tr>\n",
              "    <tr>\n",
              "      <td>250</td>\n",
              "      <td>0.646500</td>\n",
              "      <td>0.629841</td>\n",
              "      <td>0.800257</td>\n",
              "    </tr>\n",
              "    <tr>\n",
              "      <td>375</td>\n",
              "      <td>0.647300</td>\n",
              "      <td>0.630979</td>\n",
              "      <td>0.800499</td>\n",
              "    </tr>\n",
              "    <tr>\n",
              "      <td>500</td>\n",
              "      <td>0.643200</td>\n",
              "      <td>0.629981</td>\n",
              "      <td>0.800389</td>\n",
              "    </tr>\n",
              "    <tr>\n",
              "      <td>625</td>\n",
              "      <td>0.641700</td>\n",
              "      <td>0.629567</td>\n",
              "      <td>0.800224</td>\n",
              "    </tr>\n",
              "    <tr>\n",
              "      <td>750</td>\n",
              "      <td>0.635200</td>\n",
              "      <td>0.628263</td>\n",
              "      <td>0.801345</td>\n",
              "    </tr>\n",
              "    <tr>\n",
              "      <td>875</td>\n",
              "      <td>0.633000</td>\n",
              "      <td>0.628241</td>\n",
              "      <td>0.801751</td>\n",
              "    </tr>\n",
              "    <tr>\n",
              "      <td>1000</td>\n",
              "      <td>0.630500</td>\n",
              "      <td>0.627432</td>\n",
              "      <td>0.801465</td>\n",
              "    </tr>\n",
              "  </tbody>\n",
              "</table><p>"
            ],
            "text/plain": [
              "<IPython.core.display.HTML object>"
            ]
          },
          "metadata": {},
          "output_type": "display_data"
        },
        {
          "data": {
            "text/plain": [
              "TrainOutput(global_step=1044, training_loss=0.6392939940266226, metrics={'train_runtime': 1346.9264, 'train_samples_per_second': 1824.884, 'train_steps_per_second': 0.775, 'total_flos': 8.065899688502477e+16, 'train_loss': 0.6392939940266226, 'epoch': 2.9928263988522237})"
            ]
          },
          "execution_count": 31,
          "metadata": {},
          "output_type": "execute_result"
        }
      ],
      "source": [
        "trainer.train()"
      ]
    },
    {
      "cell_type": "code",
      "execution_count": null,
      "metadata": {
        "id": "3MavNL9sg5jx",
        "outputId": "b4d38ca0-84c1-49d6-b855-c02a044a39b8"
      },
      "outputs": [
        {
          "data": {
            "text/plain": [
              "('./youtube_sentiment_model_final/tokenizer_config.json',\n",
              " './youtube_sentiment_model_final/special_tokens_map.json',\n",
              " './youtube_sentiment_model_final/tokenizer.json')"
            ]
          },
          "execution_count": 32,
          "metadata": {},
          "output_type": "execute_result"
        }
      ],
      "source": [
        "trainer.save_model(\"./youtube_sentiment_model_final\")\n",
        "tokenizer.save_pretrained(\"./youtube_sentiment_model_final\")"
      ]
    }
  ],
  "metadata": {
    "colab": {
      "provenance": [],
      "gpuType": "T4"
    },
    "kernelspec": {
      "display_name": "Python 3",
      "name": "python3"
    },
    "language_info": {
      "codemirror_mode": {
        "name": "ipython",
        "version": 3
      },
      "file_extension": ".py",
      "mimetype": "text/x-python",
      "name": "python",
      "nbconvert_exporter": "python",
      "pygments_lexer": "ipython3",
      "version": "3.10.10"
    },
    "accelerator": "GPU"
  },
  "nbformat": 4,
  "nbformat_minor": 0
}